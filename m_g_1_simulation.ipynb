{
  "nbformat": 4,
  "nbformat_minor": 0,
  "metadata": {
    "colab": {
      "provenance": [],
      "authorship_tag": "ABX9TyMBbF370H9qFx20Wf75axnh",
      "include_colab_link": true
    },
    "kernelspec": {
      "name": "python3",
      "display_name": "Python 3"
    },
    "language_info": {
      "name": "python"
    }
  },
  "cells": [
    {
      "cell_type": "markdown",
      "metadata": {
        "id": "view-in-github",
        "colab_type": "text"
      },
      "source": [
        "<a href=\"https://colab.research.google.com/github/Tanay0320/Queuing-theory/blob/main/m_g_1_simulation.ipynb\" target=\"_parent\"><img src=\"https://colab.research.google.com/assets/colab-badge.svg\" alt=\"Open In Colab\"/></a>"
      ]
    },
    {
      "cell_type": "code",
      "execution_count": null,
      "metadata": {
        "id": "Ff-UWNe5y1Dd"
      },
      "outputs": [],
      "source": [
        "import heapq\n",
        "import numpy as np\n",
        "import matplotlib.pyplot as plt"
      ]
    },
    {
      "cell_type": "code",
      "source": [
        "class MG1QueueSimulatorHeap:\n",
        "  def __init__(self,lam,service_sampler,max_customers=1000,seed=None):\n",
        "      self.lam=lam\n",
        "      self.service_sampler=service_sampler   #Function for general service times\n",
        "      self.max_customers=max_customers\n",
        "      self.current_queue_length=0\n",
        "\n",
        "      #store results\n",
        "      self.arrival_times=[]\n",
        "      self.waiting_times=[]\n",
        "      self.system_times=[]\n",
        "      self.queue_events=[]\n",
        "\n",
        "      if seed:\n",
        "        np.random.seed(seed)\n",
        "\n",
        "  def simulate(self):\n",
        "    # Step 1: Initialize min-heap for server availability\n",
        "    # Each item:(available_time,server_id)\n",
        "\n",
        "    servers=[(0.0,0)]  #only one server in mg1 model\n",
        "    heapq.heapify(servers)\n",
        "    current_time=0.0\n",
        "\n",
        "    self.queue_events.append((0.0, 0))  # Start of simulation\n",
        "\n",
        "    for _ in range(self.max_customers):\n",
        "        # Step 2:Generate interarrival and service times\n",
        "        interarrival=np.random.exponential(1.0/self.lam)\n",
        "        service_time=self.service_sampler()\n",
        "        current_time=current_time+interarrival\n",
        "        self.arrival_times.append(current_time)\n",
        "\n",
        "        # Free server is available\n",
        "        while servers and servers[0][0] <= current_time:\n",
        "            heapq.heappop(servers)\n",
        "\n",
        "        num_busy = len(servers)  # How many are still busy\n",
        "\n",
        "        if len(servers)==0:\n",
        "            start_service = current_time\n",
        "        else:\n",
        "            # server busy--->wait\n",
        "            start_service = servers[0][0]\n",
        "            self.current_queue_length += 1\n",
        "            self.queue_events.append((current_time, self.current_queue_length))\n",
        "\n",
        "        if start_service > current_time:\n",
        "            # Customer had to wait → will leave queue when service starts\n",
        "            self.current_queue_length -= 1\n",
        "            self.queue_events.append((start_service, self.current_queue_length))\n",
        "\n",
        "        end_service = start_service + service_time\n",
        "        heapq.heappush(servers, (end_service, _))\n",
        "\n",
        "        wait_time = start_service - current_time\n",
        "        system_time = wait_time + service_time\n",
        "\n",
        "        self.waiting_times.append(wait_time)\n",
        "        self.system_times.append(system_time)\n",
        "\n",
        "    # Final queue length state\n",
        "    self.queue_events.append((self.arrival_times[-1], self.current_queue_length))\n",
        "\n",
        "  def results(self):\n",
        "    E_S = np.mean([self.service_sampler() for _ in range(10000)])  # Estimate E[S]\n",
        "    utilization = self.lam * E_S\n",
        "    print(\"----- M/G/1 Queue (Heap-Optimized) -----\")\n",
        "    print(f\"λ (Arrival rate): {self.lam}\")\n",
        "    print(f\"E[S] (Mean service time): {E_S:.4f}\")\n",
        "    print(f\"ρ (Utilization): {utilization:.4f}\")\n",
        "    print(f\"Average Waiting Time (Wq): {np.mean(self.waiting_times):.4f}\")\n",
        "    print(f\"Average Time in System (W): {np.mean(self.system_times):.4f}\")\n",
        "\n",
        "    # Advanced Lq calculation: time-weighted average queue length\n",
        "    total_time = 0.0\n",
        "    weighted_queue = 0.0\n",
        "\n",
        "    for i in range(1, len(self.queue_events)):\n",
        "        prev_time, prev_length = self.queue_events[i - 1]\n",
        "        curr_time, _ = self.queue_events[i]\n",
        "        duration = curr_time - prev_time\n",
        "        total_time += duration\n",
        "        weighted_queue += prev_length * duration\n",
        "\n",
        "    avg_queue_length = weighted_queue / total_time if total_time > 0 else 0.0\n",
        "    print(f\"Average Queue Length (Lq): {avg_queue_length:.4f}\")\n",
        "    print(\"------------------------------------------\")\n",
        "\n",
        "  def plot(self):\n",
        "      plt.figure(figsize=(10, 5))\n",
        "      plt.hist(self.waiting_times, bins=30, alpha=0.6, label=\"Waiting Time (Wq)\")\n",
        "      plt.hist(self.system_times, bins=30, alpha=0.6, label=\"System Time (W)\")\n",
        "      plt.xlabel(\"Time\")\n",
        "      plt.ylabel(\"Frequency\")\n",
        "      plt.title(\"Distribution of Waiting and System Times\")\n",
        "      plt.legend()\n",
        "      plt.grid(True)\n",
        "      plt.show()"
      ],
      "metadata": {
        "id": "72kEjB2___wF"
      },
      "execution_count": null,
      "outputs": []
    },
    {
      "cell_type": "code",
      "source": [
        "# Example usage for M/G/1 queue simulation\n",
        "\n",
        "def lognormal_service():\n",
        "    return np.random.lognormal(mean=0.5, sigma=0.25)  # General service time (not exponential)\n",
        "\n",
        "sim = MG1QueueSimulatorHeap(\n",
        "    lam=2.0,                    # Arrival rate λ\n",
        "    service_sampler=lognormal_service,\n",
        "    max_customers=1000,\n",
        "    seed=42\n",
        ")\n",
        "0\n",
        "sim.simulate()\n",
        "sim.results()\n",
        "sim.plot()\n"
      ],
      "metadata": {
        "colab": {
          "base_uri": "https://localhost:8080/",
          "height": 510
        },
        "id": "dv2NLBjXBuWS",
        "outputId": "d2e9764f-0f6d-4146-e912-6f646f62eb53"
      },
      "execution_count": null,
      "outputs": [
        {
          "output_type": "stream",
          "name": "stdout",
          "text": [
            "----- M/G/1 Queue (Heap-Optimized) -----\n",
            "λ (Arrival rate): 2.0\n",
            "E[S] (Mean service time): 1.6953\n",
            "ρ (Utilization): 3.3906\n",
            "Average Waiting Time (Wq): 0.4689\n",
            "Average Time in System (W): 2.1752\n",
            "Average Queue Length (Lq): 0.9362\n",
            "------------------------------------------\n"
          ]
        },
        {
          "output_type": "display_data",
          "data": {
            "text/plain": [
              "<Figure size 1000x500 with 1 Axes>"
            ],
            "image/png": "[encoded data removed]"
          },
          "metadata": {}
        }
      ]
    }
  ]
}