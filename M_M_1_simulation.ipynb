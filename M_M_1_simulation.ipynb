{
  "nbformat": 4,
  "nbformat_minor": 0,
  "metadata": {
    "colab": {
      "provenance": [],
      "authorship_tag": "ABX9TyNjbxupxP2+b/7jasW5seGh",
      "include_colab_link": true
    },
    "kernelspec": {
      "name": "python3",
      "display_name": "Python 3"
    },
    "language_info": {
      "name": "python"
    }
  },
  "cells": [
    {
      "cell_type": "markdown",
      "metadata": {
        "id": "view-in-github",
        "colab_type": "text"
      },
      "source": [
        "<a href=\"https://colab.research.google.com/github/Tanay0320/Queuing-theory/blob/main/M_M_1_simulation.ipynb\" target=\"_parent\"><img src=\"https://colab.research.google.com/assets/colab-badge.svg\" alt=\"Open In Colab\"/></a>"
      ]
    },
    {
      "cell_type": "code",
      "execution_count": 5,
      "metadata": {
        "id": "0g7vGQ7Ckcxm"
      },
      "outputs": [],
      "source": [
        "import heapq\n",
        "import numpy as np\n",
        "import pandas as pd\n",
        "from collections import deque"
      ]
    },
    {
      "cell_type": "code",
      "source": [
        "# Parameters\n",
        "LAMBDA=2.0     # Arrival rate\n",
        "MU=3.0     #Service rate\n",
        "NUM_CUSTOMERS=1000    #Number of customers to simulate"
      ],
      "metadata": {
        "id": "C2aGHeK_qYu9"
      },
      "execution_count": 4,
      "outputs": []
    },
    {
      "cell_type": "code",
      "source": [
        "# Initialization\n",
        "\n",
        "np.random.seed(42)   #reproducibility\n",
        "\n",
        "event_queue=[]  #Priority queue for event(time,type,customer_id)\n",
        "queue=deque()   #FIFO queue of waiting customers\n",
        "wait_times=[]   #record of waiting customers\n",
        "customer_log=[]  #log of customer events\n",
        "\n",
        "clock=0.0       #simulation clock\n",
        "server_busy=False  #server state\n",
        "next_customer_id=0    #customer ID generator\n"
      ],
      "metadata": {
        "id": "-AsfbeqBrNKy"
      },
      "execution_count": 7,
      "outputs": []
    },
    {
      "cell_type": "code",
      "source": [
        "# Helper Functions\n",
        "\n",
        "def schedule_arrival(curr_time):\n",
        "  global next_customer_id\n",
        "  interarrival=np.random.exponential(1/LAMBDA)\n",
        "  arrival_time=curr_time+interarrival\n",
        "  heapq.heappush(event_queue, (arrival_time,'arrival',next_customer_id))\n",
        "  next_customer_id+=1\n",
        "\n",
        "def schedule_departure(curr_time,customer_id):\n",
        "  service_time=np.random.exponential(1/MU)\n",
        "  departure_time=curr_time+service_time\n",
        "  heapq.heappush(event_queue, (departure_time, 'departure',customer_id))\n",
        "  return departure_time, service_time\n",
        ""
      ],
      "metadata": {
        "id": "F6A9cKeSvsPL"
      },
      "execution_count": 9,
      "outputs": []
    },
    {
      "cell_type": "code",
      "source": [
        "# Start Simulation\n",
        "\n",
        "schedule_arrival(clock)  #Schedule First Arrival\n",
        "\n",
        "while len(wait_times) < NUM_CUSTOMERS:\n",
        "  clock, event_type, cust_id=heapq.heappop(event_queue)\n",
        "\n",
        "  if event_type=='arrival':\n",
        "    if not server_busy:\n",
        "      server_busy=True\n",
        "      departure_time, service_time= schedule_departure(clock, cust_id)\n",
        "      wait_times.append(0.0)\n",
        "      customer_log.append({\n",
        "            'customer_id':cust_id,\n",
        "            'arrival_time':clock,\n",
        "            'departure_time':departure_time,\n",
        "            'wait_time':0.0,\n",
        "            'service_time':service_time\n",
        "      })\n",
        "    else:\n",
        "      queue.append((cust_id,clock))\n",
        "    schedule_arrival(clock)\n",
        "\n",
        "  elif event_type=='departure':\n",
        "      if queue:\n",
        "          next_id,arrival_time=queue.popleft()\n",
        "          wait=clock-arrival_time\n",
        "          wait_times.append(wait)\n",
        "          departure_time, service_time=schedule_departure(clock,next_id)\n",
        "          customer_log.append({\n",
        "            'customer_id':next_id,\n",
        "            'arrival_time':arrival_time,\n",
        "            'start_service_time':clock,\n",
        "            'departure_time':departure_time,\n",
        "            'wait_time':wait,\n",
        "            'service_time':service_time\n",
        "          })\n",
        "\n",
        "      else :\n",
        "        server_busy=False"
      ],
      "metadata": {
        "id": "Df8YQGu_v5bV"
      },
      "execution_count": 15,
      "outputs": []
    },
    {
      "cell_type": "code",
      "source": [
        "# Save to CSV\n",
        "df=pd.DataFrame(customer_log)\n",
        "df.to_csv(\"mm1_simulation_log.csv\",index=False)\n",
        "print(\"Simulation saved\")"
      ],
      "metadata": {
        "colab": {
          "base_uri": "https://localhost:8080/"
        },
        "id": "TitlyjBT0Fj9",
        "outputId": "89bb3b42-2271-4d69-a466-cb98c994c99e"
      },
      "execution_count": 18,
      "outputs": [
        {
          "output_type": "stream",
          "name": "stdout",
          "text": [
            "Simulation saved\n"
          ]
        }
      ]
    },
    {
      "cell_type": "code",
      "source": [
        "# Print Summary Stats\n",
        "print(f\"Average waiting time: {np.mean(wait_times):.4f}\")\n",
        "print(f\"Max waiting time: {np.max(wait_times):.4f}\")\n",
        "print(f\"Total simulation time: {clock:.4f} units\")"
      ],
      "metadata": {
        "colab": {
          "base_uri": "https://localhost:8080/"
        },
        "id": "zNsDn1-H9ht4",
        "outputId": "b10a4edd-d31b-4efd-ba99-7a677c76c1b2"
      },
      "execution_count": 17,
      "outputs": [
        {
          "output_type": "stream",
          "name": "stdout",
          "text": [
            "Average waiting time: 0.7248\n",
            "Max waiting time: 6.2575\n",
            "Total simulation time: 505.5969 units\n"
          ]
        }
      ]
    }
  ]
}